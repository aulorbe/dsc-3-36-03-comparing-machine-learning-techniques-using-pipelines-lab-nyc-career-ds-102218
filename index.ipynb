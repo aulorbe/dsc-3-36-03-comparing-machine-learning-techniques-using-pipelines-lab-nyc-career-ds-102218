{
 "cells": [
  {
   "cell_type": "markdown",
   "metadata": {},
   "source": [
    "# Comparing Machine Learning Techniques using Pipelines - Lab"
   ]
  },
  {
   "cell_type": "markdown",
   "metadata": {},
   "source": [
    "## Introduction"
   ]
  },
  {
   "cell_type": "markdown",
   "metadata": {},
   "source": [
    "In this lab, you'lll use a Dataset created by Otto group, which was also used in a [Kaggle competition](https://www.kaggle.com/c/otto-group-product-classification-challenge/data).\n",
    "\n",
    "The description of the data set is as follows:\n",
    "\n",
    "The Otto Group is one of the world’s biggest e-commerce companies, with subsidiaries in more than 20 countries, including Crate & Barrel (USA), Otto.de (Germany) and 3 Suisses (France). They are selling millions of products worldwide every day, with several thousand products being added to our product line.\n",
    "\n",
    "A consistent analysis of the performance of our products is crucial. However, due to their global infrastructure, many identical products get classified differently. Therefore, the quality of our product analysis depends heavily on the ability to accurately cluster similar products. The better the classification, the more insights Otto Group can generate about their product range.\n",
    "\n",
    "In this lab, you'll use a data set containing:\n",
    "- A column `id`, which is an anonymous id unique to a product\n",
    "- 93 columns `feat_1`, `feat_2`, ..., `feat_93`, which are the various features of a product\n",
    "- a column `target` - the class of a product\n"
   ]
  },
  {
   "cell_type": "markdown",
   "metadata": {},
   "source": [
    "## Objectives\n",
    "\n",
    "You will be able to:\n",
    "- Compare different classification techniques\n",
    "- Construct pipelines in scikit-learn\n",
    "- Use pipelines in combination with GridSearchCV"
   ]
  },
  {
   "cell_type": "markdown",
   "metadata": {},
   "source": [
    "## The Data Science Workflow"
   ]
  },
  {
   "cell_type": "markdown",
   "metadata": {},
   "source": [
    "You will be following the data science workflow:\n",
    "\n",
    "1. Initial data inspection, exploratory data analysis, and cleaning\n",
    "2. Feature engineering and selection\n",
    "3. create a baseline model\n",
    "4. create a machine learning pipeline and compare results with the baseline model\n",
    "5. Interpret the model and draw conclusions"
   ]
  },
  {
   "cell_type": "markdown",
   "metadata": {},
   "source": [
    "##  Initial data inspection, exploratory data analysis, and cleaning"
   ]
  },
  {
   "cell_type": "markdown",
   "metadata": {},
   "source": [
    "The data is stored in \"otto_group.csv\".\n",
    "\n",
    "Things to do here:\n",
    "- Check for NAs\n",
    "- Check the distributions\n",
    "- Check how many inputs there are\n",
    "- ..."
   ]
  },
  {
   "cell_type": "code",
   "execution_count": 1,
   "metadata": {},
   "outputs": [],
   "source": [
    "import pandas as pd\n",
    "import matplotlib.pyplot as plt\n",
    "import numpy as np"
   ]
  },
  {
   "cell_type": "code",
   "execution_count": 2,
   "metadata": {},
   "outputs": [
    {
     "data": {
      "text/html": [
       "<div>\n",
       "<style scoped>\n",
       "    .dataframe tbody tr th:only-of-type {\n",
       "        vertical-align: middle;\n",
       "    }\n",
       "\n",
       "    .dataframe tbody tr th {\n",
       "        vertical-align: top;\n",
       "    }\n",
       "\n",
       "    .dataframe thead th {\n",
       "        text-align: right;\n",
       "    }\n",
       "</style>\n",
       "<table border=\"1\" class=\"dataframe\">\n",
       "  <thead>\n",
       "    <tr style=\"text-align: right;\">\n",
       "      <th></th>\n",
       "      <th>id</th>\n",
       "      <th>feat_1</th>\n",
       "      <th>feat_2</th>\n",
       "      <th>feat_3</th>\n",
       "      <th>feat_4</th>\n",
       "      <th>feat_5</th>\n",
       "      <th>feat_6</th>\n",
       "      <th>feat_7</th>\n",
       "      <th>feat_8</th>\n",
       "      <th>feat_9</th>\n",
       "      <th>...</th>\n",
       "      <th>feat_85</th>\n",
       "      <th>feat_86</th>\n",
       "      <th>feat_87</th>\n",
       "      <th>feat_88</th>\n",
       "      <th>feat_89</th>\n",
       "      <th>feat_90</th>\n",
       "      <th>feat_91</th>\n",
       "      <th>feat_92</th>\n",
       "      <th>feat_93</th>\n",
       "      <th>target</th>\n",
       "    </tr>\n",
       "  </thead>\n",
       "  <tbody>\n",
       "    <tr>\n",
       "      <th>0</th>\n",
       "      <td>1</td>\n",
       "      <td>1</td>\n",
       "      <td>0</td>\n",
       "      <td>0</td>\n",
       "      <td>0</td>\n",
       "      <td>0</td>\n",
       "      <td>0</td>\n",
       "      <td>0</td>\n",
       "      <td>0</td>\n",
       "      <td>0</td>\n",
       "      <td>...</td>\n",
       "      <td>1</td>\n",
       "      <td>0</td>\n",
       "      <td>0</td>\n",
       "      <td>0</td>\n",
       "      <td>0</td>\n",
       "      <td>0</td>\n",
       "      <td>0</td>\n",
       "      <td>0</td>\n",
       "      <td>0</td>\n",
       "      <td>Class_1</td>\n",
       "    </tr>\n",
       "    <tr>\n",
       "      <th>1</th>\n",
       "      <td>2</td>\n",
       "      <td>0</td>\n",
       "      <td>0</td>\n",
       "      <td>0</td>\n",
       "      <td>0</td>\n",
       "      <td>0</td>\n",
       "      <td>0</td>\n",
       "      <td>0</td>\n",
       "      <td>1</td>\n",
       "      <td>0</td>\n",
       "      <td>...</td>\n",
       "      <td>0</td>\n",
       "      <td>0</td>\n",
       "      <td>0</td>\n",
       "      <td>0</td>\n",
       "      <td>0</td>\n",
       "      <td>0</td>\n",
       "      <td>0</td>\n",
       "      <td>0</td>\n",
       "      <td>0</td>\n",
       "      <td>Class_1</td>\n",
       "    </tr>\n",
       "    <tr>\n",
       "      <th>2</th>\n",
       "      <td>3</td>\n",
       "      <td>0</td>\n",
       "      <td>0</td>\n",
       "      <td>0</td>\n",
       "      <td>0</td>\n",
       "      <td>0</td>\n",
       "      <td>0</td>\n",
       "      <td>0</td>\n",
       "      <td>1</td>\n",
       "      <td>0</td>\n",
       "      <td>...</td>\n",
       "      <td>0</td>\n",
       "      <td>0</td>\n",
       "      <td>0</td>\n",
       "      <td>0</td>\n",
       "      <td>0</td>\n",
       "      <td>0</td>\n",
       "      <td>0</td>\n",
       "      <td>0</td>\n",
       "      <td>0</td>\n",
       "      <td>Class_1</td>\n",
       "    </tr>\n",
       "    <tr>\n",
       "      <th>3</th>\n",
       "      <td>4</td>\n",
       "      <td>1</td>\n",
       "      <td>0</td>\n",
       "      <td>0</td>\n",
       "      <td>1</td>\n",
       "      <td>6</td>\n",
       "      <td>1</td>\n",
       "      <td>5</td>\n",
       "      <td>0</td>\n",
       "      <td>0</td>\n",
       "      <td>...</td>\n",
       "      <td>0</td>\n",
       "      <td>1</td>\n",
       "      <td>2</td>\n",
       "      <td>0</td>\n",
       "      <td>0</td>\n",
       "      <td>0</td>\n",
       "      <td>0</td>\n",
       "      <td>0</td>\n",
       "      <td>0</td>\n",
       "      <td>Class_1</td>\n",
       "    </tr>\n",
       "    <tr>\n",
       "      <th>4</th>\n",
       "      <td>5</td>\n",
       "      <td>0</td>\n",
       "      <td>0</td>\n",
       "      <td>0</td>\n",
       "      <td>0</td>\n",
       "      <td>0</td>\n",
       "      <td>0</td>\n",
       "      <td>0</td>\n",
       "      <td>0</td>\n",
       "      <td>0</td>\n",
       "      <td>...</td>\n",
       "      <td>1</td>\n",
       "      <td>0</td>\n",
       "      <td>0</td>\n",
       "      <td>0</td>\n",
       "      <td>0</td>\n",
       "      <td>1</td>\n",
       "      <td>0</td>\n",
       "      <td>0</td>\n",
       "      <td>0</td>\n",
       "      <td>Class_1</td>\n",
       "    </tr>\n",
       "  </tbody>\n",
       "</table>\n",
       "<p>5 rows × 95 columns</p>\n",
       "</div>"
      ],
      "text/plain": [
       "   id  feat_1  feat_2  feat_3  feat_4  feat_5  feat_6  feat_7  feat_8  feat_9  \\\n",
       "0   1       1       0       0       0       0       0       0       0       0   \n",
       "1   2       0       0       0       0       0       0       0       1       0   \n",
       "2   3       0       0       0       0       0       0       0       1       0   \n",
       "3   4       1       0       0       1       6       1       5       0       0   \n",
       "4   5       0       0       0       0       0       0       0       0       0   \n",
       "\n",
       "    ...     feat_85  feat_86  feat_87  feat_88  feat_89  feat_90  feat_91  \\\n",
       "0   ...           1        0        0        0        0        0        0   \n",
       "1   ...           0        0        0        0        0        0        0   \n",
       "2   ...           0        0        0        0        0        0        0   \n",
       "3   ...           0        1        2        0        0        0        0   \n",
       "4   ...           1        0        0        0        0        1        0   \n",
       "\n",
       "   feat_92  feat_93   target  \n",
       "0        0        0  Class_1  \n",
       "1        0        0  Class_1  \n",
       "2        0        0  Class_1  \n",
       "3        0        0  Class_1  \n",
       "4        0        0  Class_1  \n",
       "\n",
       "[5 rows x 95 columns]"
      ]
     },
     "execution_count": 2,
     "metadata": {},
     "output_type": "execute_result"
    }
   ],
   "source": [
    "df = pd.read_csv(\"otto_group.csv\")\n",
    "df.head()\n"
   ]
  },
  {
   "cell_type": "code",
   "execution_count": 3,
   "metadata": {},
   "outputs": [
    {
     "data": {
      "text/html": [
       "<div>\n",
       "<style scoped>\n",
       "    .dataframe tbody tr th:only-of-type {\n",
       "        vertical-align: middle;\n",
       "    }\n",
       "\n",
       "    .dataframe tbody tr th {\n",
       "        vertical-align: top;\n",
       "    }\n",
       "\n",
       "    .dataframe thead th {\n",
       "        text-align: right;\n",
       "    }\n",
       "</style>\n",
       "<table border=\"1\" class=\"dataframe\">\n",
       "  <thead>\n",
       "    <tr style=\"text-align: right;\">\n",
       "      <th></th>\n",
       "      <th>id</th>\n",
       "      <th>feat_1</th>\n",
       "      <th>feat_2</th>\n",
       "      <th>feat_3</th>\n",
       "      <th>feat_4</th>\n",
       "      <th>feat_5</th>\n",
       "      <th>feat_6</th>\n",
       "      <th>feat_7</th>\n",
       "      <th>feat_8</th>\n",
       "      <th>feat_9</th>\n",
       "      <th>...</th>\n",
       "      <th>feat_84</th>\n",
       "      <th>feat_85</th>\n",
       "      <th>feat_86</th>\n",
       "      <th>feat_87</th>\n",
       "      <th>feat_88</th>\n",
       "      <th>feat_89</th>\n",
       "      <th>feat_90</th>\n",
       "      <th>feat_91</th>\n",
       "      <th>feat_92</th>\n",
       "      <th>feat_93</th>\n",
       "    </tr>\n",
       "  </thead>\n",
       "  <tbody>\n",
       "    <tr>\n",
       "      <th>count</th>\n",
       "      <td>61878.000000</td>\n",
       "      <td>61878.00000</td>\n",
       "      <td>61878.000000</td>\n",
       "      <td>61878.000000</td>\n",
       "      <td>61878.000000</td>\n",
       "      <td>61878.000000</td>\n",
       "      <td>61878.000000</td>\n",
       "      <td>61878.000000</td>\n",
       "      <td>61878.000000</td>\n",
       "      <td>61878.000000</td>\n",
       "      <td>...</td>\n",
       "      <td>61878.000000</td>\n",
       "      <td>61878.000000</td>\n",
       "      <td>61878.000000</td>\n",
       "      <td>61878.000000</td>\n",
       "      <td>61878.000000</td>\n",
       "      <td>61878.000000</td>\n",
       "      <td>61878.000000</td>\n",
       "      <td>61878.000000</td>\n",
       "      <td>61878.000000</td>\n",
       "      <td>61878.000000</td>\n",
       "    </tr>\n",
       "    <tr>\n",
       "      <th>mean</th>\n",
       "      <td>30939.500000</td>\n",
       "      <td>0.38668</td>\n",
       "      <td>0.263066</td>\n",
       "      <td>0.901467</td>\n",
       "      <td>0.779081</td>\n",
       "      <td>0.071043</td>\n",
       "      <td>0.025696</td>\n",
       "      <td>0.193704</td>\n",
       "      <td>0.662433</td>\n",
       "      <td>1.011296</td>\n",
       "      <td>...</td>\n",
       "      <td>0.070752</td>\n",
       "      <td>0.532306</td>\n",
       "      <td>1.128576</td>\n",
       "      <td>0.393549</td>\n",
       "      <td>0.874915</td>\n",
       "      <td>0.457772</td>\n",
       "      <td>0.812421</td>\n",
       "      <td>0.264941</td>\n",
       "      <td>0.380119</td>\n",
       "      <td>0.126135</td>\n",
       "    </tr>\n",
       "    <tr>\n",
       "      <th>std</th>\n",
       "      <td>17862.784315</td>\n",
       "      <td>1.52533</td>\n",
       "      <td>1.252073</td>\n",
       "      <td>2.934818</td>\n",
       "      <td>2.788005</td>\n",
       "      <td>0.438902</td>\n",
       "      <td>0.215333</td>\n",
       "      <td>1.030102</td>\n",
       "      <td>2.255770</td>\n",
       "      <td>3.474822</td>\n",
       "      <td>...</td>\n",
       "      <td>1.151460</td>\n",
       "      <td>1.900438</td>\n",
       "      <td>2.681554</td>\n",
       "      <td>1.575455</td>\n",
       "      <td>2.115466</td>\n",
       "      <td>1.527385</td>\n",
       "      <td>4.597804</td>\n",
       "      <td>2.045646</td>\n",
       "      <td>0.982385</td>\n",
       "      <td>1.201720</td>\n",
       "    </tr>\n",
       "    <tr>\n",
       "      <th>min</th>\n",
       "      <td>1.000000</td>\n",
       "      <td>0.00000</td>\n",
       "      <td>0.000000</td>\n",
       "      <td>0.000000</td>\n",
       "      <td>0.000000</td>\n",
       "      <td>0.000000</td>\n",
       "      <td>0.000000</td>\n",
       "      <td>0.000000</td>\n",
       "      <td>0.000000</td>\n",
       "      <td>0.000000</td>\n",
       "      <td>...</td>\n",
       "      <td>0.000000</td>\n",
       "      <td>0.000000</td>\n",
       "      <td>0.000000</td>\n",
       "      <td>0.000000</td>\n",
       "      <td>0.000000</td>\n",
       "      <td>0.000000</td>\n",
       "      <td>0.000000</td>\n",
       "      <td>0.000000</td>\n",
       "      <td>0.000000</td>\n",
       "      <td>0.000000</td>\n",
       "    </tr>\n",
       "    <tr>\n",
       "      <th>25%</th>\n",
       "      <td>15470.250000</td>\n",
       "      <td>0.00000</td>\n",
       "      <td>0.000000</td>\n",
       "      <td>0.000000</td>\n",
       "      <td>0.000000</td>\n",
       "      <td>0.000000</td>\n",
       "      <td>0.000000</td>\n",
       "      <td>0.000000</td>\n",
       "      <td>0.000000</td>\n",
       "      <td>0.000000</td>\n",
       "      <td>...</td>\n",
       "      <td>0.000000</td>\n",
       "      <td>0.000000</td>\n",
       "      <td>0.000000</td>\n",
       "      <td>0.000000</td>\n",
       "      <td>0.000000</td>\n",
       "      <td>0.000000</td>\n",
       "      <td>0.000000</td>\n",
       "      <td>0.000000</td>\n",
       "      <td>0.000000</td>\n",
       "      <td>0.000000</td>\n",
       "    </tr>\n",
       "    <tr>\n",
       "      <th>50%</th>\n",
       "      <td>30939.500000</td>\n",
       "      <td>0.00000</td>\n",
       "      <td>0.000000</td>\n",
       "      <td>0.000000</td>\n",
       "      <td>0.000000</td>\n",
       "      <td>0.000000</td>\n",
       "      <td>0.000000</td>\n",
       "      <td>0.000000</td>\n",
       "      <td>0.000000</td>\n",
       "      <td>0.000000</td>\n",
       "      <td>...</td>\n",
       "      <td>0.000000</td>\n",
       "      <td>0.000000</td>\n",
       "      <td>0.000000</td>\n",
       "      <td>0.000000</td>\n",
       "      <td>0.000000</td>\n",
       "      <td>0.000000</td>\n",
       "      <td>0.000000</td>\n",
       "      <td>0.000000</td>\n",
       "      <td>0.000000</td>\n",
       "      <td>0.000000</td>\n",
       "    </tr>\n",
       "    <tr>\n",
       "      <th>75%</th>\n",
       "      <td>46408.750000</td>\n",
       "      <td>0.00000</td>\n",
       "      <td>0.000000</td>\n",
       "      <td>0.000000</td>\n",
       "      <td>0.000000</td>\n",
       "      <td>0.000000</td>\n",
       "      <td>0.000000</td>\n",
       "      <td>0.000000</td>\n",
       "      <td>1.000000</td>\n",
       "      <td>0.000000</td>\n",
       "      <td>...</td>\n",
       "      <td>0.000000</td>\n",
       "      <td>0.000000</td>\n",
       "      <td>1.000000</td>\n",
       "      <td>0.000000</td>\n",
       "      <td>1.000000</td>\n",
       "      <td>0.000000</td>\n",
       "      <td>0.000000</td>\n",
       "      <td>0.000000</td>\n",
       "      <td>0.000000</td>\n",
       "      <td>0.000000</td>\n",
       "    </tr>\n",
       "    <tr>\n",
       "      <th>max</th>\n",
       "      <td>61878.000000</td>\n",
       "      <td>61.00000</td>\n",
       "      <td>51.000000</td>\n",
       "      <td>64.000000</td>\n",
       "      <td>70.000000</td>\n",
       "      <td>19.000000</td>\n",
       "      <td>10.000000</td>\n",
       "      <td>38.000000</td>\n",
       "      <td>76.000000</td>\n",
       "      <td>43.000000</td>\n",
       "      <td>...</td>\n",
       "      <td>76.000000</td>\n",
       "      <td>55.000000</td>\n",
       "      <td>65.000000</td>\n",
       "      <td>67.000000</td>\n",
       "      <td>30.000000</td>\n",
       "      <td>61.000000</td>\n",
       "      <td>130.000000</td>\n",
       "      <td>52.000000</td>\n",
       "      <td>19.000000</td>\n",
       "      <td>87.000000</td>\n",
       "    </tr>\n",
       "  </tbody>\n",
       "</table>\n",
       "<p>8 rows × 94 columns</p>\n",
       "</div>"
      ],
      "text/plain": [
       "                 id       feat_1        feat_2        feat_3        feat_4  \\\n",
       "count  61878.000000  61878.00000  61878.000000  61878.000000  61878.000000   \n",
       "mean   30939.500000      0.38668      0.263066      0.901467      0.779081   \n",
       "std    17862.784315      1.52533      1.252073      2.934818      2.788005   \n",
       "min        1.000000      0.00000      0.000000      0.000000      0.000000   \n",
       "25%    15470.250000      0.00000      0.000000      0.000000      0.000000   \n",
       "50%    30939.500000      0.00000      0.000000      0.000000      0.000000   \n",
       "75%    46408.750000      0.00000      0.000000      0.000000      0.000000   \n",
       "max    61878.000000     61.00000     51.000000     64.000000     70.000000   \n",
       "\n",
       "             feat_5        feat_6        feat_7        feat_8        feat_9  \\\n",
       "count  61878.000000  61878.000000  61878.000000  61878.000000  61878.000000   \n",
       "mean       0.071043      0.025696      0.193704      0.662433      1.011296   \n",
       "std        0.438902      0.215333      1.030102      2.255770      3.474822   \n",
       "min        0.000000      0.000000      0.000000      0.000000      0.000000   \n",
       "25%        0.000000      0.000000      0.000000      0.000000      0.000000   \n",
       "50%        0.000000      0.000000      0.000000      0.000000      0.000000   \n",
       "75%        0.000000      0.000000      0.000000      1.000000      0.000000   \n",
       "max       19.000000     10.000000     38.000000     76.000000     43.000000   \n",
       "\n",
       "           ...            feat_84       feat_85       feat_86       feat_87  \\\n",
       "count      ...       61878.000000  61878.000000  61878.000000  61878.000000   \n",
       "mean       ...           0.070752      0.532306      1.128576      0.393549   \n",
       "std        ...           1.151460      1.900438      2.681554      1.575455   \n",
       "min        ...           0.000000      0.000000      0.000000      0.000000   \n",
       "25%        ...           0.000000      0.000000      0.000000      0.000000   \n",
       "50%        ...           0.000000      0.000000      0.000000      0.000000   \n",
       "75%        ...           0.000000      0.000000      1.000000      0.000000   \n",
       "max        ...          76.000000     55.000000     65.000000     67.000000   \n",
       "\n",
       "            feat_88       feat_89       feat_90       feat_91       feat_92  \\\n",
       "count  61878.000000  61878.000000  61878.000000  61878.000000  61878.000000   \n",
       "mean       0.874915      0.457772      0.812421      0.264941      0.380119   \n",
       "std        2.115466      1.527385      4.597804      2.045646      0.982385   \n",
       "min        0.000000      0.000000      0.000000      0.000000      0.000000   \n",
       "25%        0.000000      0.000000      0.000000      0.000000      0.000000   \n",
       "50%        0.000000      0.000000      0.000000      0.000000      0.000000   \n",
       "75%        1.000000      0.000000      0.000000      0.000000      0.000000   \n",
       "max       30.000000     61.000000    130.000000     52.000000     19.000000   \n",
       "\n",
       "            feat_93  \n",
       "count  61878.000000  \n",
       "mean       0.126135  \n",
       "std        1.201720  \n",
       "min        0.000000  \n",
       "25%        0.000000  \n",
       "50%        0.000000  \n",
       "75%        0.000000  \n",
       "max       87.000000  \n",
       "\n",
       "[8 rows x 94 columns]"
      ]
     },
     "execution_count": 3,
     "metadata": {},
     "output_type": "execute_result"
    }
   ],
   "source": [
    "df.describe()"
   ]
  },
  {
   "cell_type": "code",
   "execution_count": 4,
   "metadata": {},
   "outputs": [
    {
     "data": {
      "text/plain": [
       "array([[<matplotlib.axes._subplots.AxesSubplot object at 0x10e1377f0>,\n",
       "        <matplotlib.axes._subplots.AxesSubplot object at 0x10e09aba8>,\n",
       "        <matplotlib.axes._subplots.AxesSubplot object at 0x10e0d4eb8>,\n",
       "        <matplotlib.axes._subplots.AxesSubplot object at 0x10e04f208>,\n",
       "        <matplotlib.axes._subplots.AxesSubplot object at 0x10dfbe518>,\n",
       "        <matplotlib.axes._subplots.AxesSubplot object at 0x10dfbe550>,\n",
       "        <matplotlib.axes._subplots.AxesSubplot object at 0x10df56b38>,\n",
       "        <matplotlib.axes._subplots.AxesSubplot object at 0x10dec8e48>,\n",
       "        <matplotlib.axes._subplots.AxesSubplot object at 0x10de42198>,\n",
       "        <matplotlib.axes._subplots.AxesSubplot object at 0x10de6b4a8>],\n",
       "       [<matplotlib.axes._subplots.AxesSubplot object at 0x10ddd97b8>,\n",
       "        <matplotlib.axes._subplots.AxesSubplot object at 0x10dd49ac8>,\n",
       "        <matplotlib.axes._subplots.AxesSubplot object at 0x10dd74dd8>,\n",
       "        <matplotlib.axes._subplots.AxesSubplot object at 0x10dcef128>,\n",
       "        <matplotlib.axes._subplots.AxesSubplot object at 0x10dc60438>,\n",
       "        <matplotlib.axes._subplots.AxesSubplot object at 0x10dc88748>,\n",
       "        <matplotlib.axes._subplots.AxesSubplot object at 0x10dbf9a58>,\n",
       "        <matplotlib.axes._subplots.AxesSubplot object at 0x10db69d68>,\n",
       "        <matplotlib.axes._subplots.AxesSubplot object at 0x10db9f0b8>,\n",
       "        <matplotlib.axes._subplots.AxesSubplot object at 0x10db0f3c8>],\n",
       "       [<matplotlib.axes._subplots.AxesSubplot object at 0x10da7e6d8>,\n",
       "        <matplotlib.axes._subplots.AxesSubplot object at 0x10daa79e8>,\n",
       "        <matplotlib.axes._subplots.AxesSubplot object at 0x103e7fcf8>,\n",
       "        <matplotlib.axes._subplots.AxesSubplot object at 0x104ab8048>,\n",
       "        <matplotlib.axes._subplots.AxesSubplot object at 0x104ae1358>,\n",
       "        <matplotlib.axes._subplots.AxesSubplot object at 0x104b0a668>,\n",
       "        <matplotlib.axes._subplots.AxesSubplot object at 0x104b33978>,\n",
       "        <matplotlib.axes._subplots.AxesSubplot object at 0x104b5bc88>,\n",
       "        <matplotlib.axes._subplots.AxesSubplot object at 0x104b87f98>,\n",
       "        <matplotlib.axes._subplots.AxesSubplot object at 0x104bba2e8>],\n",
       "       [<matplotlib.axes._subplots.AxesSubplot object at 0x104be35f8>,\n",
       "        <matplotlib.axes._subplots.AxesSubplot object at 0x105516908>,\n",
       "        <matplotlib.axes._subplots.AxesSubplot object at 0x1065f7c18>,\n",
       "        <matplotlib.axes._subplots.AxesSubplot object at 0x106622f28>,\n",
       "        <matplotlib.axes._subplots.AxesSubplot object at 0x107660278>,\n",
       "        <matplotlib.axes._subplots.AxesSubplot object at 0x10890a588>,\n",
       "        <matplotlib.axes._subplots.AxesSubplot object at 0x109243550>,\n",
       "        <matplotlib.axes._subplots.AxesSubplot object at 0x10e110400>,\n",
       "        <matplotlib.axes._subplots.AxesSubplot object at 0x10e11d278>,\n",
       "        <matplotlib.axes._subplots.AxesSubplot object at 0x10cf8d278>],\n",
       "       [<matplotlib.axes._subplots.AxesSubplot object at 0x10cfb6908>,\n",
       "        <matplotlib.axes._subplots.AxesSubplot object at 0x10cfe0f98>,\n",
       "        <matplotlib.axes._subplots.AxesSubplot object at 0x10d010668>,\n",
       "        <matplotlib.axes._subplots.AxesSubplot object at 0x10d038cf8>,\n",
       "        <matplotlib.axes._subplots.AxesSubplot object at 0x10d06a3c8>,\n",
       "        <matplotlib.axes._subplots.AxesSubplot object at 0x10d090a58>,\n",
       "        <matplotlib.axes._subplots.AxesSubplot object at 0x10d0c1128>,\n",
       "        <matplotlib.axes._subplots.AxesSubplot object at 0x10d0ea7b8>,\n",
       "        <matplotlib.axes._subplots.AxesSubplot object at 0x10d111e48>,\n",
       "        <matplotlib.axes._subplots.AxesSubplot object at 0x10d143518>],\n",
       "       [<matplotlib.axes._subplots.AxesSubplot object at 0x10d168ba8>,\n",
       "        <matplotlib.axes._subplots.AxesSubplot object at 0x10d19a278>,\n",
       "        <matplotlib.axes._subplots.AxesSubplot object at 0x10d1c1908>,\n",
       "        <matplotlib.axes._subplots.AxesSubplot object at 0x10d1ebf98>,\n",
       "        <matplotlib.axes._subplots.AxesSubplot object at 0x10d21a668>,\n",
       "        <matplotlib.axes._subplots.AxesSubplot object at 0x10d243cf8>,\n",
       "        <matplotlib.axes._subplots.AxesSubplot object at 0x10d2743c8>,\n",
       "        <matplotlib.axes._subplots.AxesSubplot object at 0x10d29aa58>,\n",
       "        <matplotlib.axes._subplots.AxesSubplot object at 0x10d2ce128>,\n",
       "        <matplotlib.axes._subplots.AxesSubplot object at 0x10d2f47b8>],\n",
       "       [<matplotlib.axes._subplots.AxesSubplot object at 0x10d31ee48>,\n",
       "        <matplotlib.axes._subplots.AxesSubplot object at 0x10d34b518>,\n",
       "        <matplotlib.axes._subplots.AxesSubplot object at 0x10d375ba8>,\n",
       "        <matplotlib.axes._subplots.AxesSubplot object at 0x10d3a6278>,\n",
       "        <matplotlib.axes._subplots.AxesSubplot object at 0x10d3cd908>,\n",
       "        <matplotlib.axes._subplots.AxesSubplot object at 0x10d3f6f98>,\n",
       "        <matplotlib.axes._subplots.AxesSubplot object at 0x10d428668>,\n",
       "        <matplotlib.axes._subplots.AxesSubplot object at 0x10d44ecf8>,\n",
       "        <matplotlib.axes._subplots.AxesSubplot object at 0x10d4803c8>,\n",
       "        <matplotlib.axes._subplots.AxesSubplot object at 0x10d4a8a58>],\n",
       "       [<matplotlib.axes._subplots.AxesSubplot object at 0x10d4da128>,\n",
       "        <matplotlib.axes._subplots.AxesSubplot object at 0x10d5007b8>,\n",
       "        <matplotlib.axes._subplots.AxesSubplot object at 0x10d529e48>,\n",
       "        <matplotlib.axes._subplots.AxesSubplot object at 0x10d55b518>,\n",
       "        <matplotlib.axes._subplots.AxesSubplot object at 0x10d580ba8>,\n",
       "        <matplotlib.axes._subplots.AxesSubplot object at 0x10d5b3278>,\n",
       "        <matplotlib.axes._subplots.AxesSubplot object at 0x10d5da908>,\n",
       "        <matplotlib.axes._subplots.AxesSubplot object at 0x10d602f98>,\n",
       "        <matplotlib.axes._subplots.AxesSubplot object at 0x10d632668>,\n",
       "        <matplotlib.axes._subplots.AxesSubplot object at 0x10d659cf8>],\n",
       "       [<matplotlib.axes._subplots.AxesSubplot object at 0x10d68a3c8>,\n",
       "        <matplotlib.axes._subplots.AxesSubplot object at 0x10d6b2a58>,\n",
       "        <matplotlib.axes._subplots.AxesSubplot object at 0x10d6e6128>,\n",
       "        <matplotlib.axes._subplots.AxesSubplot object at 0x10d70a7b8>,\n",
       "        <matplotlib.axes._subplots.AxesSubplot object at 0x10d734e48>,\n",
       "        <matplotlib.axes._subplots.AxesSubplot object at 0x10d764518>,\n",
       "        <matplotlib.axes._subplots.AxesSubplot object at 0x10d78bba8>,\n",
       "        <matplotlib.axes._subplots.AxesSubplot object at 0x10d7be278>,\n",
       "        <matplotlib.axes._subplots.AxesSubplot object at 0x10d7e6908>,\n",
       "        <matplotlib.axes._subplots.AxesSubplot object at 0x10d80df98>],\n",
       "       [<matplotlib.axes._subplots.AxesSubplot object at 0x10d83e668>,\n",
       "        <matplotlib.axes._subplots.AxesSubplot object at 0x10d866cf8>,\n",
       "        <matplotlib.axes._subplots.AxesSubplot object at 0x10d8973c8>,\n",
       "        <matplotlib.axes._subplots.AxesSubplot object at 0x10d8bea58>,\n",
       "        <matplotlib.axes._subplots.AxesSubplot object at 0x10d8f1128>,\n",
       "        <matplotlib.axes._subplots.AxesSubplot object at 0x10d9167b8>,\n",
       "        <matplotlib.axes._subplots.AxesSubplot object at 0x10d93ee48>,\n",
       "        <matplotlib.axes._subplots.AxesSubplot object at 0x10d96f518>,\n",
       "        <matplotlib.axes._subplots.AxesSubplot object at 0x10d998ba8>,\n",
       "        <matplotlib.axes._subplots.AxesSubplot object at 0x10d9cb278>]],\n",
       "      dtype=object)"
      ]
     },
     "execution_count": 4,
     "metadata": {},
     "output_type": "execute_result"
    },
    {
     "data": {
      "image/png": "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\n",
      "text/plain": [
       "<Figure size 1440x1800 with 100 Axes>"
      ]
     },
     "metadata": {},
     "output_type": "display_data"
    }
   ],
   "source": [
    "df.hist(figsize=(20,25))"
   ]
  },
  {
   "cell_type": "code",
   "execution_count": 5,
   "metadata": {},
   "outputs": [
    {
     "data": {
      "text/plain": [
       "False"
      ]
     },
     "execution_count": 5,
     "metadata": {},
     "output_type": "execute_result"
    }
   ],
   "source": [
    "df.isna().any().any()"
   ]
  },
  {
   "cell_type": "code",
   "execution_count": 6,
   "metadata": {},
   "outputs": [],
   "source": [
    "# Your code here"
   ]
  },
  {
   "cell_type": "markdown",
   "metadata": {},
   "source": [
    "If you look at all the histograms, you can tell that a lot of the data are zero-inflated, so most of the variables contain mostly zeros and then some higher values here and there. No normality, but for most machine learning techniques this is not an issue. "
   ]
  },
  {
   "cell_type": "code",
   "execution_count": 7,
   "metadata": {},
   "outputs": [],
   "source": [
    "# Your code here"
   ]
  },
  {
   "cell_type": "markdown",
   "metadata": {},
   "source": [
    "Because the data is zero-inflated the boxplots look as shown above. Because there are this many zeroes, most values above zero will seem to be outliers. The safe decision for this data is to not delete any outliers and see what happens. With many 0s, sparse data is available and high values may be super informative. More-over, without having any intuitive meaning for each of the features, we don't know if a value of ~260 is actually an outlier."
   ]
  },
  {
   "cell_type": "code",
   "execution_count": 8,
   "metadata": {},
   "outputs": [],
   "source": [
    "# Your code here"
   ]
  },
  {
   "cell_type": "markdown",
   "metadata": {},
   "source": [
    "## Feature engineering and selection with PCA"
   ]
  },
  {
   "cell_type": "markdown",
   "metadata": {},
   "source": [
    "Have a look at the correlation structure of your features using a heatmap."
   ]
  },
  {
   "cell_type": "code",
   "execution_count": 9,
   "metadata": {},
   "outputs": [
    {
     "data": {
      "image/png": "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\n",
      "text/plain": [
       "<Figure size 432x288 with 2 Axes>"
      ]
     },
     "metadata": {},
     "output_type": "display_data"
    }
   ],
   "source": [
    "import seaborn as sns\n",
    "feat = df.loc[:, 'feat_1':'feat_93']\n",
    "sns.heatmap(feat.corr(), center=0);"
   ]
  },
  {
   "cell_type": "markdown",
   "metadata": {},
   "source": [
    "Use PCA to downscale your features. Use PCA to select a number of features in a way that you still keep 80% of your explained variance."
   ]
  },
  {
   "cell_type": "code",
   "execution_count": 10,
   "metadata": {},
   "outputs": [
    {
     "name": "stdout",
     "output_type": "stream",
     "text": [
      "0.7275778309891684\n",
      "0.8885976636616337\n",
      "0.9598070585777028\n",
      "0.8003366270097496\n"
     ]
    }
   ],
   "source": [
    "from sklearn.decomposition import PCA\n",
    "pca_1 = PCA(n_components=20)\n",
    "pca_2 = PCA(n_components=40)\n",
    "pca_3 = PCA(n_components=60)\n",
    "\n",
    "principalComponents = pca_1.fit_transform(feat)\n",
    "principalComponents = pca_2.fit_transform(feat)\n",
    "principalComponents = pca_3.fit_transform(feat)\n",
    "\n",
    "print(np.sum(pca_1.explained_variance_ratio_))\n",
    "print(np.sum(pca_2.explained_variance_ratio_))\n",
    "print(np.sum(pca_3.explained_variance_ratio_))\n",
    "\n",
    "pca = PCA(n_components=27)\n",
    "principalComponents = pca.fit_transform(feat)\n",
    "print(np.sum(pca.explained_variance_ratio_))"
   ]
  },
  {
   "cell_type": "code",
   "execution_count": 11,
   "metadata": {},
   "outputs": [
    {
     "data": {
      "image/png": "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\n",
      "text/plain": [
       "<Figure size 432x288 with 2 Axes>"
      ]
     },
     "metadata": {},
     "output_type": "display_data"
    }
   ],
   "source": [
    "sns.heatmap(pd.DataFrame(principalComponents).corr(), center=0);"
   ]
  },
  {
   "cell_type": "markdown",
   "metadata": {},
   "source": [
    "## Create a train test split with a test size of 40%"
   ]
  },
  {
   "cell_type": "markdown",
   "metadata": {},
   "source": [
    "This is a relatively big training set. Feel free to make it smaller (down to ~20%), but for an initial run you can try smaller training sets so the computation time is more manageable.\n",
    "\n",
    "For now, simply use the original data and not the principal components. We looked at the PC's first to get a sense of our correlation structure, and to see how we can downsize our data without losing too much information. In what's next, you'll make PCA part of the pipeline!!"
   ]
  },
  {
   "cell_type": "code",
   "execution_count": 12,
   "metadata": {},
   "outputs": [],
   "source": [
    "from sklearn.model_selection import train_test_split\n",
    "\n",
    "X = df.drop(columns=['target','id'])\n",
    "y = df['target']"
   ]
  },
  {
   "cell_type": "code",
   "execution_count": 13,
   "metadata": {},
   "outputs": [],
   "source": [
    "X_train, X_test, y_train, y_test = train_test_split(X, y, test_size=.4)"
   ]
  },
  {
   "cell_type": "markdown",
   "metadata": {},
   "source": [
    "## Create a baseline model"
   ]
  },
  {
   "cell_type": "markdown",
   "metadata": {},
   "source": [
    "Create your baseline model *in a pipeline setting*. In the pipeline\n",
    "- Your first step will be to scale your features down to the number of features that ensure you keep just 80% of your explained variance (which we saw before)\n",
    "- Your second step will be the building a basic logistic regression model.\n",
    "\n",
    "Make sure to fit the model using the training set, and test the result by obtaining the accuracy using the test set."
   ]
  },
  {
   "cell_type": "code",
   "execution_count": 14,
   "metadata": {},
   "outputs": [],
   "source": [
    "from sklearn.pipeline import Pipeline\n",
    "from sklearn.linear_model import LogisticRegression\n",
    "\n",
    "\n",
    "pipe_lr = Pipeline([('pca', PCA(n_components=27, random_state=123)),\n",
    "         ('clf', LogisticRegression(random_state=123))])\n"
   ]
  },
  {
   "cell_type": "code",
   "execution_count": 15,
   "metadata": {},
   "outputs": [
    {
     "name": "stderr",
     "output_type": "stream",
     "text": [
      "/Users/flatironschool/anaconda3/lib/python3.6/site-packages/sklearn/linear_model/logistic.py:433: FutureWarning: Default solver will be changed to 'lbfgs' in 0.22. Specify a solver to silence this warning.\n",
      "  FutureWarning)\n",
      "/Users/flatironschool/anaconda3/lib/python3.6/site-packages/sklearn/linear_model/logistic.py:460: FutureWarning: Default multi_class will be changed to 'auto' in 0.22. Specify the multi_class option to silence this warning.\n",
      "  \"this warning.\", FutureWarning)\n"
     ]
    },
    {
     "data": {
      "text/plain": [
       "Pipeline(memory=None,\n",
       "     steps=[('pca', PCA(copy=True, iterated_power='auto', n_components=27, random_state=123,\n",
       "  svd_solver='auto', tol=0.0, whiten=False)), ('clf', LogisticRegression(C=1.0, class_weight=None, dual=False, fit_intercept=True,\n",
       "          intercept_scaling=1, max_iter=100, multi_class='warn',\n",
       "          n_jobs=None, penalty='l2', random_state=123, solver='warn',\n",
       "          tol=0.0001, verbose=0, warm_start=False))])"
      ]
     },
     "execution_count": 15,
     "metadata": {},
     "output_type": "execute_result"
    }
   ],
   "source": [
    "pipe_lr.fit(X_train, y_train)"
   ]
  },
  {
   "cell_type": "code",
   "execution_count": 16,
   "metadata": {},
   "outputs": [],
   "source": [
    "# from sklearn.metrics import accuracy_score\n",
    "\n",
    "# accuracy_score(X_test,y_test)\n",
    "\n",
    "# can't do ^ because our data is multi-class!"
   ]
  },
  {
   "cell_type": "code",
   "execution_count": 17,
   "metadata": {},
   "outputs": [
    {
     "name": "stdout",
     "output_type": "stream",
     "text": [
      "0.7167501616031028\n"
     ]
    }
   ],
   "source": [
    "print(pipe_lr.score(X_test, y_test))"
   ]
  },
  {
   "cell_type": "markdown",
   "metadata": {},
   "source": [
    "## Create a pipeline consisting of a linear SVM, a simple Decision Tree and a simple Random Forest Classifier"
   ]
  },
  {
   "cell_type": "markdown",
   "metadata": {},
   "source": [
    "Repeat the above, but now create three different pipelines:\n",
    "- One for a standard linear SCM\n",
    "- One for a default decision tree\n",
    "- One for a RandomForestClassifier"
   ]
  },
  {
   "cell_type": "code",
   "execution_count": 18,
   "metadata": {},
   "outputs": [],
   "source": [
    "from sklearn import svm\n",
    "from sklearn.ensemble import RandomForestClassifier\n",
    "from sklearn import tree"
   ]
  },
  {
   "cell_type": "code",
   "execution_count": 19,
   "metadata": {},
   "outputs": [],
   "source": [
    "pipe_svm = Pipeline([('pca', PCA(n_components=27, random_state=123)),\n",
    "         ('svm', svm.SVC(random_state=123))])"
   ]
  },
  {
   "cell_type": "code",
   "execution_count": 20,
   "metadata": {},
   "outputs": [
    {
     "name": "stderr",
     "output_type": "stream",
     "text": [
      "/Users/flatironschool/anaconda3/lib/python3.6/site-packages/sklearn/svm/base.py:196: FutureWarning: The default value of gamma will change from 'auto' to 'scale' in version 0.22 to account better for unscaled features. Set gamma explicitly to 'auto' or 'scale' to avoid this warning.\n",
      "  \"avoid this warning.\", FutureWarning)\n"
     ]
    },
    {
     "data": {
      "text/plain": [
       "Pipeline(memory=None,\n",
       "     steps=[('pca', PCA(copy=True, iterated_power='auto', n_components=27, random_state=123,\n",
       "  svd_solver='auto', tol=0.0, whiten=False)), ('svm', SVC(C=1.0, cache_size=200, class_weight=None, coef0=0.0,\n",
       "  decision_function_shape='ovr', degree=3, gamma='auto_deprecated',\n",
       "  kernel='rbf', max_iter=-1, probability=False, random_state=123,\n",
       "  shrinking=True, tol=0.001, verbose=False))])"
      ]
     },
     "execution_count": 20,
     "metadata": {},
     "output_type": "execute_result"
    }
   ],
   "source": [
    "pipe_svm.fit(X_train, y_train)"
   ]
  },
  {
   "cell_type": "code",
   "execution_count": 21,
   "metadata": {},
   "outputs": [],
   "source": [
    "pipe_dt = Pipeline([('pca', PCA(n_components=27, random_state=123)),\n",
    "         ('dt', tree.DecisionTreeClassifier(random_state=123))])"
   ]
  },
  {
   "cell_type": "code",
   "execution_count": 22,
   "metadata": {},
   "outputs": [
    {
     "data": {
      "text/plain": [
       "Pipeline(memory=None,\n",
       "     steps=[('pca', PCA(copy=True, iterated_power='auto', n_components=27, random_state=123,\n",
       "  svd_solver='auto', tol=0.0, whiten=False)), ('dt', DecisionTreeClassifier(class_weight=None, criterion='gini', max_depth=None,\n",
       "            max_features=None, max_leaf_nodes=None,\n",
       "            min_impurity_decrease=0.0, min_impurity_split=None,\n",
       "            min_samples_leaf=1, min_samples_split=2,\n",
       "            min_weight_fraction_leaf=0.0, presort=False, random_state=123,\n",
       "            splitter='best'))])"
      ]
     },
     "execution_count": 22,
     "metadata": {},
     "output_type": "execute_result"
    }
   ],
   "source": [
    "pipe_dt.fit(X_train, y_train)"
   ]
  },
  {
   "cell_type": "code",
   "execution_count": 23,
   "metadata": {},
   "outputs": [],
   "source": [
    "pipe_rfc = Pipeline([('pca', PCA(n_components=27, random_state=123)),\n",
    "         ('rfc', RandomForestClassifier(random_state=123))])"
   ]
  },
  {
   "cell_type": "code",
   "execution_count": 24,
   "metadata": {},
   "outputs": [
    {
     "name": "stderr",
     "output_type": "stream",
     "text": [
      "/Users/flatironschool/anaconda3/lib/python3.6/site-packages/sklearn/ensemble/forest.py:246: FutureWarning: The default value of n_estimators will change from 10 in version 0.20 to 100 in 0.22.\n",
      "  \"10 in version 0.20 to 100 in 0.22.\", FutureWarning)\n"
     ]
    },
    {
     "data": {
      "text/plain": [
       "Pipeline(memory=None,\n",
       "     steps=[('pca', PCA(copy=True, iterated_power='auto', n_components=27, random_state=123,\n",
       "  svd_solver='auto', tol=0.0, whiten=False)), ('rfc', RandomForestClassifier(bootstrap=True, class_weight=None, criterion='gini',\n",
       "            max_depth=None, max_features='auto', max_leaf_nodes=None,\n",
       "            ...ators=10, n_jobs=None,\n",
       "            oob_score=False, random_state=123, verbose=0, warm_start=False))])"
      ]
     },
     "execution_count": 24,
     "metadata": {},
     "output_type": "execute_result"
    }
   ],
   "source": [
    "pipe_rfc.fit(X_train, y_train)"
   ]
  },
  {
   "cell_type": "markdown",
   "metadata": {},
   "source": [
    "## Pipeline with grid search"
   ]
  },
  {
   "cell_type": "markdown",
   "metadata": {},
   "source": [
    "Construct 3 pipelines with grid search\n",
    "- one for support vector machines - make sure your grid isn't too big. You'll see it takes quite a while to fit SVMs with non-linear kernel functions!\n",
    "- one for random forests - try to have around 40 different models\n",
    "- one for the adaboost algorithm. "
   ]
  },
  {
   "cell_type": "markdown",
   "metadata": {},
   "source": [
    "### SVM pipeline with grid search"
   ]
  },
  {
   "cell_type": "code",
   "execution_count": 25,
   "metadata": {},
   "outputs": [],
   "source": [
    "from sklearn.model_selection import GridSearchCV"
   ]
  },
  {
   "cell_type": "code",
   "execution_count": 29,
   "metadata": {},
   "outputs": [],
   "source": [
    "# grid_svm = [{'svm__kernel': ['poly', 'sigmoid'],\n",
    "#          'svm__C': [0.01, 1, 100],\n",
    "#          'svm__degree0': [2,3,4,5],\n",
    "#          'svm__gamma': [0.001, 0.01]}]\n",
    "\n",
    "\n",
    "\n",
    "grid_svm = [\n",
    "  {'svm__C': [0.1, 1, 10]  , 'svm__kernel': ['linear']},\n",
    "  {'svm__C': [1, 10], 'svm__gamma': [0.001, 0.01], 'svm__kernel': ['rbf']},\n",
    " ]"
   ]
  },
  {
   "cell_type": "code",
   "execution_count": 30,
   "metadata": {},
   "outputs": [],
   "source": [
    "# gridsearch_svm = GridSearchCV(estimator=pipe_svm,\n",
    "#                   param_grid=grid_svm,\n",
    "#                   scoring='accuracy',\n",
    "#                   cv=3)\n",
    "\n",
    "\n",
    "gridsearch_svm = GridSearchCV(estimator=pipe_svm,\n",
    "            param_grid=grid_svm,\n",
    "            scoring='accuracy',\n",
    "            cv=3, verbose=2, return_train_score = True)"
   ]
  },
  {
   "cell_type": "code",
   "execution_count": null,
   "metadata": {},
   "outputs": [
    {
     "name": "stdout",
     "output_type": "stream",
     "text": [
      "Fitting 3 folds for each of 7 candidates, totalling 21 fits\n",
      "[CV] svm__C=0.1, svm__kernel=linear ..................................\n"
     ]
    },
    {
     "name": "stderr",
     "output_type": "stream",
     "text": [
      "[Parallel(n_jobs=1)]: Using backend SequentialBackend with 1 concurrent workers.\n"
     ]
    },
    {
     "name": "stdout",
     "output_type": "stream",
     "text": [
      "[CV] ................... svm__C=0.1, svm__kernel=linear, total=  26.6s\n",
      "[CV] svm__C=0.1, svm__kernel=linear ..................................\n"
     ]
    },
    {
     "name": "stderr",
     "output_type": "stream",
     "text": [
      "[Parallel(n_jobs=1)]: Done   1 out of   1 | elapsed:   35.8s remaining:    0.0s\n"
     ]
    },
    {
     "name": "stdout",
     "output_type": "stream",
     "text": [
      "[CV] ................... svm__C=0.1, svm__kernel=linear, total=  25.3s\n",
      "[CV] svm__C=0.1, svm__kernel=linear ..................................\n",
      "[CV] ................... svm__C=0.1, svm__kernel=linear, total=  28.8s\n",
      "[CV] svm__C=1, svm__kernel=linear ....................................\n",
      "[CV] ..................... svm__C=1, svm__kernel=linear, total= 1.7min\n",
      "[CV] svm__C=1, svm__kernel=linear ....................................\n",
      "[CV] ..................... svm__C=1, svm__kernel=linear, total= 2.3min\n",
      "[CV] svm__C=1, svm__kernel=linear ....................................\n",
      "[CV] ..................... svm__C=1, svm__kernel=linear, total= 3.7min\n",
      "[CV] svm__C=10, svm__kernel=linear ...................................\n",
      "[CV] .................... svm__C=10, svm__kernel=linear, total=16.9min\n",
      "[CV] svm__C=10, svm__kernel=linear ...................................\n"
     ]
    }
   ],
   "source": [
    "gridsearch_svm.fit(X_train, y_train)"
   ]
  },
  {
   "cell_type": "markdown",
   "metadata": {},
   "source": [
    "Use your grid search object along with `.cv_results` to get the full result overview"
   ]
  },
  {
   "cell_type": "code",
   "execution_count": null,
   "metadata": {},
   "outputs": [],
   "source": [
    "gridsearch_svm.cv_results"
   ]
  },
  {
   "cell_type": "markdown",
   "metadata": {},
   "source": [
    "### Random Forest pipeline with grid search"
   ]
  },
  {
   "cell_type": "code",
   "execution_count": null,
   "metadata": {},
   "outputs": [],
   "source": [
    "grid_rf = [ \n",
    "  {'rf__n_estimators': [120],\n",
    "   'rf__criterion': ['entropy', 'gini'], \n",
    "   'rf__max_depth': [4, 5, 6],  \n",
    "   'rf__min_samples_leaf':[0.05 ,0.1, 0.2],  \n",
    "   'rf__min_samples_split':[0.05 ,0.1, 0.2]\n",
    "  }\n",
    "]"
   ]
  },
  {
   "cell_type": "code",
   "execution_count": null,
   "metadata": {},
   "outputs": [],
   "source": [
    "gridsearch_rf = GridSearchCV(estimator=pipe_rf,\n",
    "            param_grid=param_grid_forest,\n",
    "            scoring='accuracy',\n",
    "            cv=3, verbose=2, return_train_score = True)"
   ]
  },
  {
   "cell_type": "code",
   "execution_count": null,
   "metadata": {},
   "outputs": [],
   "source": [
    "gridsearch_rf.fit(X_train, y_train)"
   ]
  },
  {
   "cell_type": "code",
   "execution_count": null,
   "metadata": {},
   "outputs": [],
   "source": [
    "gridsearch_rf.cv_results"
   ]
  },
  {
   "cell_type": "markdown",
   "metadata": {},
   "source": [
    "## Adaboost"
   ]
  },
  {
   "cell_type": "code",
   "execution_count": null,
   "metadata": {},
   "outputs": [],
   "source": [
    "from sklearn.ensemble import AdaBoostClassifier\n",
    "\n",
    "pipe_ab = Pipeline([('pca', PCA(n_components=27)),\n",
    "            ('clf', AdaBoostClassifier(random_state = 123))])\n",
    "\n",
    "gridsearch_ab = {\n",
    "    'clf__n_estimators': [30, 50, 70],\n",
    "    'clf__learning_rate': [1.0, 0.5, 0.1]\n",
    "}\n",
    "\n",
    "gridsearch_ab = GridSearchCV(estimator=pipe_ab,\n",
    "            param_grid=adaboost_param_grid,\n",
    "            scoring='accuracy',\n",
    "            cv=3, verbose=2, return_train_score = True)\n",
    "\n",
    "gridsearch_ab.fit(X_train, y_train)"
   ]
  },
  {
   "cell_type": "markdown",
   "metadata": {},
   "source": [
    "## Note\n",
    "\n",
    "Note that this solution is only one of many options. The results in the Random Forest and Adaboost models show that there is a lot of improvement possible tuning the hyperparameters further, so make sure to explore this yourself!"
   ]
  },
  {
   "cell_type": "markdown",
   "metadata": {},
   "source": [
    "## Summary \n",
    "\n",
    "Great! You now got a lot of practice in. What algorithm would you choose and why?"
   ]
  }
 ],
 "metadata": {
  "kernelspec": {
   "display_name": "Python 3",
   "language": "python",
   "name": "python3"
  },
  "language_info": {
   "codemirror_mode": {
    "name": "ipython",
    "version": 3
   },
   "file_extension": ".py",
   "mimetype": "text/x-python",
   "name": "python",
   "nbconvert_exporter": "python",
   "pygments_lexer": "ipython3",
<<<<<<< HEAD
   "version": "3.6.5"
=======
   "version": "3.6.6"
>>>>>>> 1389d28a7601f2575526c82566060495bd2cc5ec
  }
 },
 "nbformat": 4,
 "nbformat_minor": 2
}
